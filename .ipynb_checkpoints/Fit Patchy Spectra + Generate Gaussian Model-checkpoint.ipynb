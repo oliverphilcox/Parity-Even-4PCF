{
 "cells": [
  {
   "cell_type": "code",
   "execution_count": 161,
   "metadata": {},
   "outputs": [
    {
     "name": "stdout",
     "output_type": "stream",
     "text": [
      "Populating the interactive namespace from numpy and matplotlib\n"
     ]
    },
    {
     "name": "stderr",
     "output_type": "stream",
     "text": [
      "/home/ophilcox/.conda/envs/ptenv/lib/python2.7/site-packages/IPython/core/magics/pylab.py:161: UserWarning: pylab import has clobbered these variables: ['f', 'gamma', 'fft']\n",
      "`%matplotlib` prevents importing * from pylab and numpy\n",
      "  \"\\n`%matplotlib` prevents importing * from pylab and numpy\"\n"
     ]
    }
   ],
   "source": [
    "%pylab inline"
   ]
  },
  {
   "cell_type": "markdown",
   "metadata": {},
   "source": [
    "# Compare theory and observations for 250 Patchy mocks"
   ]
  },
  {
   "cell_type": "code",
   "execution_count": 162,
   "metadata": {},
   "outputs": [],
   "source": [
    "import os\n",
    "import numpy as np\n",
    "from montepython.likelihood_class import Likelihood_prior\n",
    "from numpy.fft import fft, ifft , rfft, irfft , fftfreq\n",
    "from numpy import exp, log, log10, cos, sin, pi, cosh, sinh , sqrt\n",
    "from scipy.special import gamma,erf\n",
    "from scipy import interpolate\n",
    "from scipy.integrate import quad, simps\n",
    "import scipy.integrate as integrate\n",
    "from scipy import special"
   ]
  },
  {
   "cell_type": "markdown",
   "metadata": {},
   "source": [
    "### Define and save data"
   ]
  },
  {
   "cell_type": "code",
   "execution_count": 164,
   "metadata": {},
   "outputs": [
    {
     "name": "stdout",
     "output_type": "stream",
     "text": [
      "Using 249 simulations\n"
     ]
    }
   ],
   "source": [
    "indir = '/projects/QUIJOTE/Oliver/npcf/pk_boss/oliver/'\n",
    "k_min = 0.01\n",
    "k_max = 0.3\n",
    "\n",
    "all_p = []\n",
    "sims = []\n",
    "for sim_no in range(250):\n",
    "    infile = indir+'patchy%d_cmassN_pk.npy'%sim_no\n",
    "    if not os.path.exists(infile): continue \n",
    "    d = np.load(infile)\n",
    "    k = d['k']\n",
    "    filt = np.logical_and(k>=k_min,k<=k_max)\n",
    "    k = k[filt]\n",
    "    all_p.append(np.vstack([d['power0'][filt].real-d['shotnoise'][filt],d['power2'][filt].real,d['power4'][filt].real]))\n",
    "    sims.append(sim_no)\n",
    "print(\"Using %d simulations\"%len(all_p))\n",
    "all_p = np.asarray(all_p)\n",
    "mean_p = np.mean(all_p,axis=0)\n",
    "std_p = np.std(all_p,axis=0)#/np.sqrt(len(all_p))\n",
    "\n",
    "cov_p = np.cov(all_p.reshape(-1,len(k)*3).T)\n",
    "\n",
    "# Add hartlap factor to get unbiased inverse\n",
    "hartlap = (len(all_p)-len(mean_p.ravel())-2.)/(len(all_p)-1.)\n",
    "cov_p /= hartlap\n",
    "\n",
    "## Now save data\n",
    "np.savetxt('/home/ophilcox/PkEFT/montepython_public/data/boss_cmass_ngc/pk_patchy.dat',np.vstack([k,mean_p]).T)\n",
    "np.savetxt('/home/ophilcox/PkEFT/montepython_public/data/boss_cmass_ngc/covmat.dat',cov_p)\n",
    "\n",
    "## Copy window functions\n",
    "os.system('cp /projects/QUIJOTE/Oliver/npcf/pk_boss/oliver/patchy_cmassN_window.dat /home/ophilcox/PkEFT/montepython_public/data/boss_cmass_ngc/patchy_window.dat');"
   ]
  },
  {
   "cell_type": "markdown",
   "metadata": {},
   "source": [
    "#### NB: technically we have $\\bar{z} \\approx 0.544$ for this sample"
   ]
  },
  {
   "cell_type": "code",
   "execution_count": null,
   "metadata": {},
   "outputs": [],
   "source": []
  },
  {
   "cell_type": "markdown",
   "metadata": {},
   "source": [
    "### CHECK ADDITION OF HEXADECAPOLE!!"
   ]
  },
  {
   "cell_type": "code",
   "execution_count": 135,
   "metadata": {},
   "outputs": [],
   "source": [
    "class boss_cmass_ngc():\n",
    "\n",
    "    # initialisation of the class is done within the parent Likelihood_prior. For\n",
    "    # this case, it does not differ, actually, from the __init__ method in\n",
    "    # Likelihood class.\n",
    "\n",
    "    def __init__(self,bin_integ=True,use_hex=True):\n",
    "        \n",
    "        self.data_directory = '/home/ophilcox/PkEFT/montepython_public/data/'\n",
    "        self.window_file = 'boss_cmass_ngc/patchy_window.dat'\n",
    "        self.measurements_file = 'boss_cmass_ngc/pk_patchy.dat'\n",
    "        self.covmat_file = 'boss_cmass_ngc/covmat.dat'\n",
    "    \n",
    "        self.z      = 0.57 #45\n",
    "        self.use_nuisance =['norm','b_1','b_2','b_{G_2}']\n",
    "\n",
    "        self.k, self.Pk0, self.Pk2, self.Pk4 = np.loadtxt(self.data_directory+self.measurements_file).T#[:3]\n",
    "        \n",
    "        # whether to include hexadecapole\n",
    "        self.use_hex = use_hex\n",
    "        \n",
    "        # Bin-integration\n",
    "        self.bin_integ = bin_integ\n",
    "        self.k_arr = np.arange(k_min+0.00025,k_max,0.0005)\n",
    "        self.n_sub = 10\n",
    "        #self.k_arr = np.logspace(-4.5,2.5,10000)\n",
    "        self.ksize_all = len(self.k_arr)\n",
    "        \n",
    "        self.ksize = len(self.k)\n",
    "        if self.bin_integ:\n",
    "            print(\"Using mon/quad Patchy data in %d k-bins with bin integration\"%self.ksize)\n",
    "        else:\n",
    "            print(\"Using mon/quad Patchy data in %d k-bins without bin integration\"%self.ksize)\n",
    "        \n",
    "        self.cov = np.loadtxt(self.data_directory+self.covmat_file)#[:,:]\n",
    "        self.logdetcov = np.linalg.slogdet(self.cov)[1]\n",
    "        self.stack_dat = np.hstack([self.Pk0,self.Pk2,self.Pk4])\n",
    "        if self.use_hex:\n",
    "            self.invcov = np.linalg.inv(self.cov)\n",
    "        else:\n",
    "            self.invcov = np.linalg.inv(self.cov[:2*self.ksize,:2*self.ksize])\n",
    "        self.Nmax=128\n",
    "        self.W0, self.W2, self.W4 = np.loadtxt(self.data_directory+self.window_file).T\n",
    "\n",
    "        # Precompute useful window function things\n",
    "        kmax = 100.\n",
    "        self.k0 = 1.e-4\n",
    "\n",
    "        self.rmin = 0.01\n",
    "        rmax = 1000.\n",
    "        b = -1.1001\n",
    "        bR = -2.001\n",
    "\n",
    "        Delta = log(kmax/self.k0) / (self.Nmax - 1)\n",
    "        Delta_r = log(rmax/self.rmin) / (self.Nmax - 1)\n",
    "        i_arr = np.arange(self.Nmax)\n",
    "        rtab = self.rmin * exp(Delta_r * i_arr)\n",
    "\n",
    "        self.kbins3 = self.k0 * exp(Delta * i_arr)\n",
    "        self.tmp_factor = exp(-1.*b*i_arr*Delta)\n",
    "        self.tmp_factor2 = exp(-1.*bR*i_arr*Delta_r)\n",
    "\n",
    "        jsNm = np.arange(-self.Nmax/2,self.Nmax/2+1,1)\n",
    "        self.etam = b + 2*1j*pi*(jsNm)/self.Nmax/Delta\n",
    "\n",
    "        def J_func(r,nu):\n",
    "            gam = special.gamma(2+nu)\n",
    "            r_pow = r**(-3.-1.*nu)\n",
    "            sin_nu = np.sin(pi*nu/2.)\n",
    "            J0 = -1.*sin_nu*r_pow*gam/(2.*pi**2.)\n",
    "            J2 = (3.+nu)/nu*J0\n",
    "            J4 = (5.+nu)/(2.-nu)*J2\n",
    "            return J0,J2,J4\n",
    "        \n",
    "        self.J0_arr,self.J2_arr,self.J4_arr = J_func(rtab.reshape(-1,1),self.etam.reshape(1,-1))\n",
    "\n",
    "        self.etamR = bR + 2*1j*pi*(jsNm)/self.Nmax/Delta_r\n",
    "\n",
    "        def Jk_func(k,nu):\n",
    "            gam = special.gamma(2+nu)\n",
    "            k_pow = k**(-3.-1.*nu)\n",
    "            sin_nu = np.sin(pi*nu/2.)\n",
    "            J0k = -1.*k_pow*gam*sin_nu*(4.*pi)\n",
    "            J2k = (3.+nu)/nu*J0k\n",
    "            J4k = (5.+nu)/(2.-nu)*J2k\n",
    "            return J0k,J2k,J4k\n",
    "            \n",
    "        self.J0k_arr,self.J2k_arr,self.J4k_arr = Jk_func(self.kbins3.reshape(-1,1),self.etamR.reshape(1,-1))\n",
    "\n",
    "        # Compute window response matrix\n",
    "        if not self.bin_integ: self.ksize_all = self.ksize\n",
    "        resp00 = np.zeros((self.ksize_all,self.Nmax))\n",
    "        resp02 = np.zeros((self.ksize_all,self.Nmax))\n",
    "        resp04 = np.zeros((self.ksize_all,self.Nmax))\n",
    "        resp20 = np.zeros((self.ksize_all,self.Nmax))\n",
    "        resp22 = np.zeros((self.ksize_all,self.Nmax))\n",
    "        resp24 = np.zeros((self.ksize_all,self.Nmax))\n",
    "        resp40 = np.zeros((self.ksize_all,self.Nmax))\n",
    "        resp42 = np.zeros((self.ksize_all,self.Nmax))\n",
    "        resp44 = np.zeros((self.ksize_all,self.Nmax))\n",
    "        for i in range(self.Nmax):\n",
    "            tmp_resp0 = self.window_response(0,i)\n",
    "            tmp_resp2 = self.window_response(2,i)\n",
    "            tmp_resp4 = self.window_response(4,i)\n",
    "            resp00[:,i] = tmp_resp0[0]\n",
    "            resp20[:,i] = tmp_resp0[1]\n",
    "            resp40[:,i] = tmp_resp0[2]\n",
    "            resp02[:,i] = tmp_resp2[0]\n",
    "            resp22[:,i] = tmp_resp2[1]\n",
    "            resp42[:,i] = tmp_resp2[2]\n",
    "            resp04[:,i] = tmp_resp4[0]\n",
    "            resp24[:,i] = tmp_resp4[1]\n",
    "            resp44[:,i] = tmp_resp4[2]\n",
    "        resp0 = np.hstack([resp00,resp02,resp04])\n",
    "        resp2 = np.hstack([resp20,resp22,resp24])\n",
    "        resp4 = np.hstack([resp40,resp42,resp44])\n",
    "        self.response_matrix = np.vstack([resp0,resp2,resp4])\n",
    "\n",
    "    def window_response(self, l_i, k_index):\n",
    "\n",
    "        Nmax = self.Nmax\n",
    "        k0 = self.k0\n",
    "\n",
    "        Pdiscrin0 = np.zeros(Nmax)\n",
    "        Pdiscrin2 = np.zeros(Nmax)\n",
    "        Pdiscrin4 = np.zeros(Nmax)\n",
    "\n",
    "        if l_i==0:\n",
    "            Pdiscrin0[k_index] = 1\n",
    "        if l_i==2:\n",
    "            Pdiscrin2[k_index] = 1\n",
    "        if l_i==4:\n",
    "            Pdiscrin4[k_index] = 1\n",
    "\n",
    "        cm0 = np.fft.fft(Pdiscrin0)/ Nmax\n",
    "        cm2 = np.fft.fft(Pdiscrin2)/ Nmax\n",
    "        cm4 = np.fft.fft(Pdiscrin4)/ Nmax\n",
    "        cmsym0 = np.zeros(Nmax+1,dtype=np.complex_)\n",
    "        cmsym2 = np.zeros(Nmax+1,dtype=np.complex_)\n",
    "        cmsym4 = np.zeros(Nmax+1,dtype=np.complex_)\n",
    "\n",
    "        all_i = np.arange(Nmax+1)\n",
    "        f = (all_i+2-Nmax/2) < 1\n",
    "        cmsym0[f] = k0**(-self.etam[f])*np.conjugate(cm0[-all_i[f]+Nmax/2])\n",
    "        cmsym2[f] = k0**(-self.etam[f])*np.conjugate(cm2[-all_i[f]+Nmax/2])\n",
    "        cmsym4[f] = k0**(-self.etam[f])*np.conjugate(cm4[-all_i[f]+Nmax/2])\n",
    "        cmsym0[~f] = k0**(-self.etam[~f])*cm0[all_i[~f]-Nmax/2]\n",
    "        cmsym2[~f] = k0**(-self.etam[~f])*cm2[all_i[~f]-Nmax/2]\n",
    "        cmsym4[~f] = k0**(-self.etam[~f])*cm4[all_i[~f]-Nmax/2]\n",
    "\n",
    "        cmsym0[-1] = cmsym0[-1] / 2\n",
    "        cmsym0[0] = cmsym0[0] / 2\n",
    "        cmsym2[-1] = cmsym2[-1] / 2\n",
    "        cmsym2[0] = cmsym2[0] / 2\n",
    "        cmsym4[-1] = cmsym4[-1] / 2\n",
    "        cmsym4[0] = cmsym4[0] / 2\n",
    "\n",
    "        xi0 = np.real(cmsym0*self.J0_arr).sum(axis=1)\n",
    "        xi2 = np.real(cmsym2*self.J2_arr).sum(axis=1)\n",
    "        xi4 = np.real(cmsym4*self.J4_arr).sum(axis=1)\n",
    "\n",
    "        i_arr = np.arange(Nmax)\n",
    "        Xidiscrin0 = (xi0*self.W0)*self.tmp_factor2\n",
    "        Xidiscrin2 = (xi0*self.W2 + xi2*(self.W0 + 2.*(self.W2+self.W4)/7.))*self.tmp_factor2\n",
    "        Xidiscrin4 = (xi0*self.W4 + xi2*(self.W2*18./35.+self.W4*20./77.) + xi4*(self.W0 + 20./77.*self.W2 + 162./1001.*self.W4))*self.tmp_factor2\n",
    "\n",
    "        cmr0 = np.fft.fft(Xidiscrin0)/ Nmax\n",
    "        cmr2 = np.fft.fft(Xidiscrin2)/ Nmax\n",
    "        cmr4 = np.fft.fft(Xidiscrin4)/ Nmax\n",
    "\n",
    "        cmsymr0 = np.zeros(Nmax+1,dtype=np.complex_)\n",
    "        cmsymr2 = np.zeros(Nmax+1,dtype=np.complex_)\n",
    "        cmsymr4 = np.zeros(Nmax+1,dtype=np.complex_)\n",
    "\n",
    "        arr_i = np.arange(Nmax+1)\n",
    "        f = (arr_i+2-Nmax/2)<1\n",
    "\n",
    "        cmsymr0[f] = self.rmin**(-self.etamR[f])*np.conjugate(cmr0[-arr_i[f] + Nmax/2])\n",
    "        cmsymr2[f] =  self.rmin**(-self.etamR[f])*np.conjugate(cmr2[-arr_i[f] + Nmax/2])\n",
    "        cmsymr4[f] =  self.rmin**(-self.etamR[f])*np.conjugate(cmr4[-arr_i[f] + Nmax/2])\n",
    "        cmsymr0[~f] = self.rmin**(-self.etamR[~f])* cmr0[arr_i[~f] - Nmax/2]\n",
    "        cmsymr2[~f] = self.rmin**(-self.etamR[~f])* cmr2[arr_i[~f] - Nmax/2]\n",
    "        cmsymr4[~f] = self.rmin**(-self.etamR[~f])* cmr4[arr_i[~f] - Nmax/2]\n",
    "\n",
    "        cmsymr0[-1] = cmsymr0[-1] / 2\n",
    "        cmsymr0[0] = cmsymr0[0] / 2\n",
    "        cmsymr2[-1] = cmsymr2[-1] / 2\n",
    "        cmsymr2[0] = cmsymr2[0] / 2\n",
    "        cmsymr4[-1] = cmsymr4[-1] / 2\n",
    "        cmsymr4[0] = cmsymr4[0] / 2\n",
    "\n",
    "        P0t = np.real(cmsymr0*self.J0k_arr).sum(axis=1)\n",
    "        P2t = np.real(cmsymr2*self.J2k_arr).sum(axis=1)\n",
    "        P4t = np.real(cmsymr4*self.J4k_arr).sum(axis=1)\n",
    "\n",
    "        if not self.bin_integ:\n",
    "            P0int = interpolate.InterpolatedUnivariateSpline(self.kbins3,P0t)(self.k)\n",
    "            P2int = interpolate.InterpolatedUnivariateSpline(self.kbins3,P2t)(self.k)\n",
    "            P4int = interpolate.InterpolatedUnivariateSpline(self.kbins3,P4t)(self.k)\n",
    "        else:\n",
    "            P0int = interpolate.InterpolatedUnivariateSpline(self.kbins3,P0t)(self.k_arr)\n",
    "            P2int = interpolate.InterpolatedUnivariateSpline(self.kbins3,P2t)(self.k_arr)\n",
    "            P4int = interpolate.InterpolatedUnivariateSpline(self.kbins3,P4t)(self.k_arr)\n",
    "\n",
    "        return P0int,P2int,P4int\n",
    "\n",
    "    def loglkl(self,params,cosmo,fz,return_unwindowed=False,return_windowed=False):\n",
    "        #b1,b2,bG2,css0mean,css2mean,css4mean,b4mean,Pshotmean = params\n",
    "        b1,b2,bG2,bGamma3,cs0,cs2,cs4,b4,Pshot = params\n",
    "        \n",
    "        norm = 1. # fix norm for Patchy\n",
    "        h = cosmo.h()\n",
    "\n",
    "        #bGamma3 = 0.\n",
    "        a2 = 0.\n",
    "        Nmax = self.Nmax\n",
    "        k0 = self.k0\n",
    "\n",
    "        z = self.z;\n",
    "        \n",
    "        # Compute usual theory model\n",
    "        kinloop1 = self.kbins3 * h\n",
    "        \n",
    "        theory0 = cosmo.pk_gg_l0(b1,b2,bG2,bGamma3,cs0,b4,Pshot)\n",
    "        theory2 = cosmo.pk_gg_l2(b1,b2,bG2,bGamma3,cs2,b4)\n",
    "        theory4 = cosmo.pk_gg_l4(b1,b2,bG2,bGamma3,cs4,b4)\n",
    "\n",
    "        if return_unwindowed:\n",
    "            return theory0,theory2,theory4\n",
    "\n",
    "        # Put all into a vector for simplicity\n",
    "        i_arr = np.arange(Nmax)\n",
    "        factor = (exp(-1.*(self.kbins3*h/2.)**4.)*self.tmp_factor)\n",
    "        Pdisc = np.concatenate([theory0*factor,theory2*factor,theory4*factor])\n",
    "        \n",
    "        # Now convolve with window function\n",
    "        conv_theory_all = np.matmul(Pdisc,self.response_matrix.T)\n",
    "        \n",
    "        # Now perform bin integration\n",
    "        if not self.bin_integ:\n",
    "            conv_theory = conv_theory_all\n",
    "        else:\n",
    "            conv_theory = np.zeros(self.ksize*3)\n",
    "            for i in range(self.ksize):\n",
    "                # Select arrays\n",
    "                n_sub = self.n_sub\n",
    "                this_k = self.k_arr[i*n_sub:(i+1)*n_sub]\n",
    "                this_p0 = conv_theory_all[i*n_sub:(i+1)*n_sub]\n",
    "                this_p2 = conv_theory_all[self.ksize_all+i*n_sub:self.ksize_all+(i+1)*n_sub]\n",
    "                this_p4 = conv_theory_all[2*self.ksize_all+i*n_sub:2*self.ksize_all+(i+1)*n_sub]\n",
    "                # Integrate\n",
    "                bin_norm = simps(this_k**2.,this_k)\n",
    "                conv_theory[i] = simps(this_k**2*this_p0,this_k)/bin_norm\n",
    "                conv_theory[self.ksize+i] = simps(this_k**2.*this_p2,this_k)/bin_norm\n",
    "                conv_theory[2*self.ksize+i] = simps(this_k**2.*this_p4,this_k)/bin_norm\n",
    "\n",
    "        if return_windowed:\n",
    "            return conv_theory[:self.ksize],conv_theory[self.ksize:2*self.ksize],conv_theory[2*self.ksize:]\n",
    "        \n",
    "        # Now compute chi^2\n",
    "        if self.use_hex:\n",
    "            diff = conv_theory-self.stack_dat\n",
    "        else:\n",
    "            diff = (conv_theory-self.stack_dat)[:2*self.ksize]\n",
    "        chi2 = np.inner(diff,np.inner(self.invcov,diff))\n",
    "        \n",
    "        # Add priors\n",
    "        #chi2 += (b2 + 0.)**2./1.**2. + (bG2 +0.)**2./1.**2.+ (css0mean-0.)**2./30.**2. + (css2mean - 0.)**2./30.**2. + (b4mean -0.)**2./500.**2. + (Pshotmean - 0.)**2./(5e3)**2.\n",
    "        #chi2 += (b2 - 0.)**2./1**2. + (bG2 - 0.)**2/1**2. #+ (css0)**2/30**2 + css2**2/30**2 + (b4-500.)**2/500**2 + (Pshot - 5e3)**2./(5e3)**2.\n",
    "\n",
    "        # Add determinants (depending on cosmology)\n",
    "        #chi2 += np.linalg.slogdet(marg_cov)[1] - self.logdetcov # add on trace-log part and remove unmarginalized part (independent of cosmology)\n",
    "\n",
    "        loglkl = -0.5 * chi2\n",
    "\n",
    "        return loglkl"
   ]
  },
  {
   "cell_type": "code",
   "execution_count": 136,
   "metadata": {},
   "outputs": [
    {
     "name": "stdout",
     "output_type": "stream",
     "text": [
      "Using mon/quad Patchy data in 58 k-bins with bin integration\n"
     ]
    }
   ],
   "source": [
    "lik = boss_cmass_ngc(bin_integ=1,use_hex=1)"
   ]
  },
  {
   "cell_type": "code",
   "execution_count": 137,
   "metadata": {},
   "outputs": [],
   "source": [
    "from classy import Class\n",
    "\n",
    "## LOAD PATCHY COSMOLOGY\n",
    "z_eff = lik.z\n",
    "OmegaM = 0.307115\n",
    "OmegaL = 0.692885\n",
    "Omegab = 0.048206\n",
    "A_s = 2.1467e-9\n",
    "h = 0.6777\n",
    "n_s = 0.9611\n",
    "\n",
    "cosmo = Class()\n",
    "params = {'h':h,\n",
    "          'omega_b':Omegab*h**2.,\n",
    "          'omega_cdm':(OmegaM-Omegab)*h**2.,\n",
    "          'tau_reio':0.052,\n",
    "          'n_s':n_s,\n",
    "          'A_s':A_s,\n",
    "          'N_ur':3.046,\n",
    "          'N_ncdm':0,\n",
    "          'z_pk':z_eff,\n",
    "          'output':'mPk',\n",
    "          'non linear':'PT',\n",
    "          'IR resummation':'Yes',\n",
    "          'Bias tracers':'Yes',\n",
    "          'cb':'Yes',\n",
    "          'RSD':'Yes',\n",
    "          'AP':'Yes',\n",
    "          'Omfid':0.31,\n",
    "          }\n",
    "cosmo.set(params)\n",
    "cosmo.compute()\n",
    "fz = cosmo.scale_independent_growth_factor_f(lik.z)\n",
    "cosmo.initialize_output(lik.kbins3*cosmo.h(),lik.z,len(lik.kbins3))"
   ]
  },
  {
   "cell_type": "code",
   "execution_count": 138,
   "metadata": {},
   "outputs": [],
   "source": [
    "from scipy.optimize import minimize\n",
    "p0 = [2.,0.,0.,0.,0.,0.,0.,0.,0.]\n",
    "x = minimize(lambda pars: -1.*lik.loglkl(pars,cosmo,fz),p0)"
   ]
  },
  {
   "cell_type": "code",
   "execution_count": 139,
   "metadata": {},
   "outputs": [
    {
     "name": "stdout",
     "output_type": "stream",
     "text": [
      "('chi2: ', 4.905238147945967)\n"
     ]
    }
   ],
   "source": [
    "print(\"chi2: \",x.fun*2.)"
   ]
  },
  {
   "cell_type": "code",
   "execution_count": 140,
   "metadata": {},
   "outputs": [
    {
     "name": "stdout",
     "output_type": "stream",
     "text": [
      "('chi2: ', 4.905238147945967)\n"
     ]
    }
   ],
   "source": [
    "print(\"chi2: \",x.fun*2.)"
   ]
  },
  {
   "cell_type": "code",
   "execution_count": 141,
   "metadata": {},
   "outputs": [
    {
     "name": "stdout",
     "output_type": "stream",
     "text": [
      "chi2 = 4.905, DoF = 165\n"
     ]
    },
    {
     "data": {
      "image/png": "[encoded data removed]",
      "text/plain": [
       "<Figure size 432x288 with 1 Axes>"
      ]
     },
     "metadata": {
      "needs_background": "light"
     },
     "output_type": "display_data"
    }
   ],
   "source": [
    "p_opt = x.x\n",
    "pk0_opt,pk2_opt,pk4_opt = lik.loglkl(p_opt,cosmo,fz,return_windowed=1)\n",
    "\n",
    "plt.plot(lik.k,lik.k*pk0_opt,c='r',ls='--',alpha=0.5)\n",
    "plt.plot(lik.k,lik.k*pk2_opt,c='b',ls='--',alpha=0.5)\n",
    "plt.plot(lik.k,lik.k*pk4_opt,c='g',ls='--',alpha=0.5)\n",
    "\n",
    "plt.errorbar(lik.k,lik.k*lik.Pk0,yerr=lik.k*np.sqrt(np.diag(lik.cov)[:lik.ksize])/np.sqrt(248.),ls='',marker='.',c='r',label=r'$\\ell=0$')\n",
    "plt.errorbar(lik.k,lik.k*lik.Pk2,yerr=lik.k*np.sqrt(np.diag(lik.cov)[lik.ksize:2*lik.ksize])/np.sqrt(248.),ls='',marker='.',c='b',label=r'$\\ell=2$')\n",
    "plt.errorbar(lik.k,lik.k*lik.Pk4,yerr=lik.k*np.sqrt(np.diag(lik.cov)[2*lik.ksize:3*lik.ksize])/np.sqrt(248.),ls='',marker='.',c='g',label=r'$\\ell=4$')\n",
    "plt.legend(fontsize=12)\n",
    "plt.title('Patchy Mocks',fontsize=12)\n",
    "plt.xlim([0.01,0.25])\n",
    "plt.ylim([-500,2000])\n",
    "plt.xlabel(r'$k$ [$h\\,\\mathrm{Mpc}^{-1}$]',fontsize=14)\n",
    "plt.ylabel(r'$k\\,P_\\ell(k)$  [$h^{-2}\\,\\mathrm{Mpc}^{2}$]',fontsize=14);\n",
    "print(\"chi2 = %.3f, DoF = %d\"%(x.fun*2.,len(lik.stack_dat)-len(x.x)))"
   ]
  },
  {
   "cell_type": "code",
   "execution_count": 142,
   "metadata": {},
   "outputs": [
    {
     "data": {
      "text/plain": [
       "1.045638873795169"
      ]
     },
     "execution_count": 142,
     "metadata": {},
     "output_type": "execute_result"
    }
   ],
   "source": [
    "b1 = 1.96\n",
    "p0 = (b1**2.+2./3.*b1*fz+fz**2./5.)\n",
    "p2 = 4.*b1*fz/3.+4.*fz**2./7.\n",
    "p4 = 8.*fz**2./35.\n",
    "\n",
    "cov_norsd = p0**2.\n",
    "cov_wrsd = (p0**2+p2**2/5.+p4**2./9.)\n",
    "ratio = cov_wrsd/cov_norsd\n",
    "ratio"
   ]
  },
  {
   "cell_type": "code",
   "execution_count": null,
   "metadata": {},
   "outputs": [],
   "source": []
  },
  {
   "cell_type": "markdown",
   "metadata": {},
   "source": [
    "#### Compare windowed + unwindowed Pk"
   ]
  },
  {
   "cell_type": "code",
   "execution_count": 143,
   "metadata": {},
   "outputs": [
    {
     "data": {
      "image/png": "[encoded data removed]",
      "text/plain": [
       "<Figure size 432x288 with 1 Axes>"
      ]
     },
     "metadata": {
      "needs_background": "light"
     },
     "output_type": "display_data"
    }
   ],
   "source": [
    "p_opt = x.x\n",
    "# Windowed\n",
    "pk0_opt,pk2_opt,pk4_opt = lik.loglkl(p_opt,cosmo,fz,return_windowed=1)\n",
    "# Unwindowed\n",
    "pk0_opt_un,pk2_opt_un,pk4_opt_un = lik.loglkl(p_opt,cosmo,fz,return_unwindowed=1)\n",
    "\n",
    "plt.plot(lik.k,lik.k*pk0_opt,c='r',ls='--')\n",
    "plt.plot(lik.k,lik.k*pk2_opt,c='b',ls='--')\n",
    "plt.plot(lik.k,lik.k*pk4_opt,c='g',ls='--')\n",
    "\n",
    "plt.plot(lik.kbins3,lik.kbins3*pk0_opt_un,c='r',ls='-')\n",
    "plt.plot(lik.kbins3,lik.kbins3*pk2_opt_un,c='b',ls='-')\n",
    "plt.plot(lik.kbins3,lik.kbins3*pk4_opt_un,c='g',ls='-')\n",
    "\n",
    "# plt.errorbar(lik.k,lik.k*lik.Pk0,yerr=lik.k*np.sqrt(np.diag(lik.cov)[:lik.ksize])/np.sqrt(248.),ls='',marker='.',c='r',label=r'$\\ell=0$')\n",
    "# plt.errorbar(lik.k,lik.k*lik.Pk2,yerr=lik.k*np.sqrt(np.diag(lik.cov)[lik.ksize:2*lik.ksize])/np.sqrt(248.),ls='',marker='.',c='b',label=r'$\\ell=2$')\n",
    "# plt.errorbar(lik.k,lik.k*lik.Pk4,yerr=lik.k*np.sqrt(np.diag(lik.cov)[2*lik.ksize:3*lik.ksize])/np.sqrt(248.),ls='',marker='.',c='g',label=r'$\\ell=4$')\n",
    "plt.legend(fontsize=12)\n",
    "plt.title('Windowed (dashed) vs Unwindowed (full)',fontsize=12)\n",
    "plt.xlim([0.01,0.5])\n",
    "plt.ylim([-500,2000])\n",
    "plt.xlabel(r'$k$ [$h\\,\\mathrm{Mpc}^{-1}$]',fontsize=14)\n",
    "plt.ylabel(r'$k\\,P_\\ell(k)$  [$h^{-2}\\,\\mathrm{Mpc}^{2}$]',fontsize=14);"
   ]
  },
  {
   "cell_type": "code",
   "execution_count": 144,
   "metadata": {},
   "outputs": [
    {
     "name": "stdout",
     "output_type": "stream",
     "text": [
      "Using mon/quad Patchy data in 58 k-bins with bin integration\n"
     ]
    }
   ],
   "source": [
    "lik = boss_cmass_ngc(bin_integ=1,use_hex=1)\n",
    "p0_all,p2_all,p4_all = lik.loglkl(p_opt,cosmo,fz,return_unwindowed=True)\n",
    "k_all = lik.kbins3"
   ]
  },
  {
   "cell_type": "code",
   "execution_count": 145,
   "metadata": {},
   "outputs": [],
   "source": [
    "p0_all2 = p0_all.copy()"
   ]
  },
  {
   "cell_type": "code",
   "execution_count": null,
   "metadata": {},
   "outputs": [],
   "source": []
  },
  {
   "cell_type": "markdown",
   "metadata": {},
   "source": [
    "## Now compute 2PCF multipoles"
   ]
  },
  {
   "cell_type": "code",
   "execution_count": 146,
   "metadata": {},
   "outputs": [],
   "source": [
    "# Define model on dense k-space grid\n",
    "k_all = np.logspace(-4,1,10000)\n",
    "cosmo2 = Class()\n",
    "cosmo2.set(params)\n",
    "cosmo2.compute()\n",
    "cosmo2.initialize_output(k_all*cosmo2.h(),lik.z,len(k_all))\n",
    "b1,b2,bG2,bGamma3,cs0,cs2,cs4,b4,Pshot = p_opt\n",
    "p0_all = cosmo2.pk_gg_l0(b1,b2,bG2,bGamma3,cs0,b4,Pshot)\n",
    "p2_all = cosmo2.pk_gg_l2(b1,b2,bG2,bGamma3,cs2,b4)\n",
    "p4_all = cosmo2.pk_gg_l4(b1,b2,bG2,bGamma3,cs4,b4)"
   ]
  },
  {
   "cell_type": "code",
   "execution_count": 147,
   "metadata": {},
   "outputs": [],
   "source": [
    "k_cut = 0.5\n",
    "f = k_all>k_cut\n",
    "k_hi = k_all[f]\n",
    "pklin = cosmo2.get_pk_lin((k_hi*cosmo2.h()).reshape(-1,1,1),np.asarray([lik.z]),len(k_hi),1,1)[:,0,0]\n",
    "p0_hi = p0_all.copy()\n",
    "p2_hi = p2_all.copy()\n",
    "p4_hi = p4_all.copy()\n",
    "p0_hi[f] = pklin*p0_all[min(np.where(f)[0])]/pklin[0]\n",
    "p2_hi[f] = pklin*p2_all[min(np.where(f)[0])]/pklin[0]\n",
    "p4_hi[f] = pklin*p4_all[min(np.where(f)[0])]/pklin[0]"
   ]
  },
  {
   "cell_type": "code",
   "execution_count": null,
   "metadata": {},
   "outputs": [],
   "source": []
  },
  {
   "cell_type": "code",
   "execution_count": 148,
   "metadata": {},
   "outputs": [],
   "source": [
    "np.save('/projects/QUIJOTE/Oliver/npcf/pk_patchy_eft_fit_tempered.npy',[k_all,p0_hi,p2_hi,p4_hi])"
   ]
  },
  {
   "cell_type": "code",
   "execution_count": 149,
   "metadata": {},
   "outputs": [],
   "source": [
    "from mcfit import P2xi, xi2P"
   ]
  },
  {
   "cell_type": "code",
   "execution_count": 150,
   "metadata": {},
   "outputs": [],
   "source": [
    "k_filt = np.exp(-1.*(k_all/.5)**4.)\n",
    "r_all,xi0_all = P2xi(k_all,l=0)(p0_all*k_filt)\n",
    "r_all,xi2_all = P2xi(k_all,l=2)(p2_all*k_filt)\n",
    "r_all,xi4_all = P2xi(k_all,l=4)(p4_all*k_filt)"
   ]
  },
  {
   "cell_type": "code",
   "execution_count": 160,
   "metadata": {},
   "outputs": [
    {
     "data": {
      "text/plain": [
       "(-1000, 2000)"
      ]
     },
     "execution_count": 160,
     "metadata": {},
     "output_type": "execute_result"
    },
    {
     "data": {
      "image/png": "[encoded data removed]",
      "text/plain": [
       "<Figure size 432x288 with 1 Axes>"
      ]
     },
     "metadata": {
      "needs_background": "light"
     },
     "output_type": "display_data"
    }
   ],
   "source": [
    "plt.plot(k_all,k_all*p0_hi*k_filt)\n",
    "plt.plot(k_all,k_all*p2_hi*k_filt)\n",
    "plt.plot(k_all,k_all*p4_hi*k_filt)\n",
    "plt.xlim([0,1])\n",
    "plt.ylim([-1000,2000])"
   ]
  },
  {
   "cell_type": "code",
   "execution_count": 152,
   "metadata": {},
   "outputs": [
    {
     "data": {
      "image/png": "[encoded data removed]",
      "text/plain": [
       "<Figure size 432x288 with 1 Axes>"
      ]
     },
     "metadata": {
      "needs_background": "light"
     },
     "output_type": "display_data"
    }
   ],
   "source": [
    "plt.plot(r_all,r_all**2*xi0_all)\n",
    "plt.plot(r_all,r_all**2*xi2_all)\n",
    "plt.plot(r_all,r_all**2*xi4_all)\n",
    "plt.xlim(20,200)\n",
    "plt.ylim(-150,150)\n",
    "from scipy.interpolate import interp1d\n",
    "xi0_inter = interp1d(r_all,xi0_all)\n",
    "xi2_inter = interp1d(r_all,xi2_all)\n",
    "xi4_inter = interp1d(r_all,xi4_all)"
   ]
  },
  {
   "cell_type": "markdown",
   "metadata": {},
   "source": [
    "### Bin this"
   ]
  },
  {
   "cell_type": "code",
   "execution_count": 153,
   "metadata": {},
   "outputs": [],
   "source": [
    "r_lo = np.arange(20.,159.,7.)\n",
    "r_hi = np.arange(27.,161.,7.)\n",
    "r_av = 0.5*(r_lo+r_hi)\n",
    "r_all = np.linspace(r_lo,r_hi,100)\n",
    "xi0_binned = simps(r_all**2.*xi0_inter(r_all),r_all,axis=0)/simps(r_all**2.,r_all,axis=0)\n",
    "xi2_binned = simps(r_all**2.*xi2_inter(r_all),r_all,axis=0)/simps(r_all**2.,r_all,axis=0)\n",
    "xi4_binned = simps(r_all**2.*xi4_inter(r_all),r_all,axis=0)/simps(r_all**2.,r_all,axis=0)"
   ]
  },
  {
   "cell_type": "code",
   "execution_count": 154,
   "metadata": {},
   "outputs": [
    {
     "name": "stdout",
     "output_type": "stream",
     "text": [
      "Using 250 mocks\n"
     ]
    }
   ],
   "source": [
    "# BOSS data\n",
    "infile = '/projects/QUIJOTE/Oliver/npcf/boss_4pcf_production/boss_cmass.zeta_2pcf.txt'\n",
    "#if not os.path.exists(infile): continue\n",
    "bins1 = np.asarray(np.loadtxt(infile,skiprows=4,max_rows=1),dtype=int)\n",
    "indat = np.loadtxt(infile,skiprows=5)\n",
    "twopcf_boss = indat\n",
    "\n",
    "# Patchy data\n",
    "all_twopcf = []\n",
    "for sim_no in range(1,251):\n",
    "    infile = '/projects/QUIJOTE/Oliver/npcf/boss_4pcf_production/patchy%d_cmass.zeta_2pcf.txt'%sim_no\n",
    "    if not os.path.exists(infile): continue\n",
    "    bins1 = np.asarray(np.loadtxt(infile,skiprows=4,max_rows=1),dtype=int)\n",
    "    indat = np.loadtxt(infile,skiprows=5)\n",
    "    if isnan(indat).sum(): \n",
    "        print(sim_no)\n",
    "        continue\n",
    "    all_twopcf.append(indat)\n",
    "print(\"Using %d mocks\"%len(all_twopcf))\n",
    "twopcf_mean = np.mean(all_twopcf,axis=0)\n",
    "twopcf_std = np.std(all_twopcf,axis=0)#/np.sqrt(len(all_twopcf))"
   ]
  },
  {
   "cell_type": "code",
   "execution_count": 155,
   "metadata": {},
   "outputs": [],
   "source": [
    "twopcf_cov = np.cov(np.asarray(all_twopcf).T)\n",
    "twopcf_invcov = np.linalg.inv(twopcf_cov)*(len(all_twopcf)-len(twopcf_mean)-2.)/(len(all_twopcf)-1.)"
   ]
  },
  {
   "cell_type": "code",
   "execution_count": 156,
   "metadata": {},
   "outputs": [
    {
     "data": {
      "image/png": "[encoded data removed]",
      "text/plain": [
       "<Figure size 432x288 with 1 Axes>"
      ]
     },
     "metadata": {
      "needs_background": "light"
     },
     "output_type": "display_data"
    }
   ],
   "source": [
    "plt.plot(r_av,r_av**2.*xi0_binned)\n",
    "plt.errorbar(r_av,r_av**2.*twopcf_mean,yerr=r_av**2.*twopcf_std);"
   ]
  },
  {
   "cell_type": "code",
   "execution_count": null,
   "metadata": {},
   "outputs": [],
   "source": []
  },
  {
   "cell_type": "markdown",
   "metadata": {},
   "source": [
    "#### Fit a simple linear model"
   ]
  },
  {
   "cell_type": "code",
   "execution_count": 88,
   "metadata": {},
   "outputs": [],
   "source": [
    "from scipy.interpolate import interp1d\n",
    "k_all = np.logspace(-4,2,1000)\n",
    "h = cosmo.h()\n",
    "pk_all_a = np.asarray([(cosmo.pk(kk,z_eff)[0]+cosmo.pk(kk,z_eff)[14])*h**3. for kk in k_all*h])\n",
    "pk_all_b = np.asarray([(2*cosmo.pk(kk,z_eff)[10]/h**2.)*h**3. for kk in k_all*h])\n",
    "#cosmo.pk_mm_l0(k_all)\n",
    "pk_interp_a = interp1d(k_all,pk_all_a)\n",
    "pk_interp_b = interp1d(k_all,pk_all_b)\n",
    "\n",
    "def simple_pk(b_eff,cs):\n",
    "    return lambda k: b_eff**2.*(pk_interp_a(k)+cs*pk_interp_b(k))*np.exp(-(k/1.)**2.)\n",
    "\n",
    "def J0(r,nu):\n",
    "    return -1.*np.sin(pi*nu/2.)*r**(-3.-1.*nu)*special.gamma(2+nu)/(2.*pi**2.)\n",
    "Nmax = 256\n",
    "bk = -1.1001\n",
    "kmax = 100.\n",
    "k0 = 1.e-4\n",
    "rtab = np.zeros(Nmax)\n",
    "rmin = 0.01\n",
    "rmax = 1000.\n",
    "Delta = log(kmax/k0) / (Nmax - 1)\n",
    "Delta_r = log(rmax/rmin) / (Nmax - 1)\n",
    "\n",
    "jsNm = np.arange(-Nmax//2,Nmax//2+1,1)\n",
    "etam = bk + 2*1j*pi*(jsNm)/(1.*Nmax)/Delta\n",
    "i_arr = np.arange(Nmax)\n",
    "i2_arr = np.arange(Nmax+1)\n",
    "kbins3 = k0*exp(Delta*i_arr)\n",
    "kinloop1 = kbins3*h\n",
    "rtab = rmin*exp(Delta_r*i_arr)\n",
    "\n",
    "r_lo = np.arange(0.,170.,17.)\n",
    "r_hi = np.arange(17.,187.,17.)\n",
    "r_av = 0.5*(r_lo+r_hi)\n",
    "r_all = np.linspace(r_lo,r_hi,100)\n",
    "\n",
    "def pk_to_xi(pk_interp):\n",
    "\n",
    "    theory0 = pk_interp(kbins3)\n",
    "    Pdiscrin0 = theory0 * exp( -1.*(kinloop1/4.)**4. -1.*bk*i_arr*Delta)\n",
    "\n",
    "    cm0 = np.fft.fft(Pdiscrin0)/ Nmax\n",
    "    cmsym0 = np.zeros(Nmax+1,dtype=np.complex_)\n",
    "\n",
    "    filt = (i2_arr+2-Nmax//2)<1\n",
    "    cmsym0[filt] = k0**(-etam[filt])*np.conjugate(cm0[-i2_arr[filt]+Nmax//2])\n",
    "    cmsym0[~filt] = k0**(-etam[~filt])*cm0[i2_arr[~filt]-Nmax//2]\n",
    "    cmsym0[-1] = cmsym0[-1] / 2\n",
    "    cmsym0[0] = cmsym0[0] / 2\n",
    "\n",
    "    xi0 = np.zeros(Nmax)\n",
    "\n",
    "    for i in range(Nmax):\n",
    "        xi0[i] += np.sum(np.real(cmsym0*J0(rtab[i],etam)))\n",
    "\n",
    "    xi0inter = interpolate.InterpolatedUnivariateSpline(rtab,xi0)\n",
    "\n",
    "    rvec = np.logspace(0.,np.log10(3),1000) # array of rvec in Mpc/h\n",
    "    rvec = 10**rvec\n",
    "    \n",
    "    xi_binned = simps(r_all**2.*xi0inter(r_all),r_all,axis=0)/simps(r_all**2.,r_all,axis=0)\n",
    "    return xi_binned\n",
    "\n",
    "def chi2(pars):\n",
    "    b_eff,cs = pars\n",
    "    pk_model = simple_pk(b_eff,cs)\n",
    "    xi_model = pk_to_xi(pk_model)\n",
    "    diff = xi_model - twopcf_mean\n",
    "    chi2 = np.inner(diff,np.inner(twopcf_invcov,diff))\n",
    "    return chi2"
   ]
  },
  {
   "cell_type": "code",
   "execution_count": 91,
   "metadata": {},
   "outputs": [
    {
     "data": {
      "text/plain": [
       "609.7408847621999"
      ]
     },
     "execution_count": 91,
     "metadata": {},
     "output_type": "execute_result"
    }
   ],
   "source": [
    "chi2([2.,1.])"
   ]
  },
  {
   "cell_type": "code",
   "execution_count": 92,
   "metadata": {},
   "outputs": [],
   "source": [
    "from scipy.optimize import minimize\n",
    "x = minimize(chi2,[2.,1.])"
   ]
  },
  {
   "cell_type": "code",
   "execution_count": 100,
   "metadata": {},
   "outputs": [
    {
     "data": {
      "text/plain": [
       "7.098206657096035"
      ]
     },
     "execution_count": 100,
     "metadata": {},
     "output_type": "execute_result"
    }
   ],
   "source": [
    "x.fun"
   ]
  },
  {
   "cell_type": "code",
   "execution_count": 96,
   "metadata": {},
   "outputs": [],
   "source": [
    "b_eff,cs = x.x"
   ]
  },
  {
   "cell_type": "code",
   "execution_count": 98,
   "metadata": {},
   "outputs": [
    {
     "data": {
      "text/plain": [
       "<ErrorbarContainer object of 3 artists>"
      ]
     },
     "execution_count": 98,
     "metadata": {},
     "output_type": "execute_result"
    },
    {
     "data": {
      "image/png": "[encoded data removed]",
      "text/plain": [
       "<Figure size 432x288 with 1 Axes>"
      ]
     },
     "metadata": {
      "needs_background": "light"
     },
     "output_type": "display_data"
    }
   ],
   "source": [
    "pk_out = simple_pk(b_eff,cs)\n",
    "xi_out = pk_to_xi(pk_out)\n",
    "plt.plot(r_av,r_av**2.*xi_out)\n",
    "plt.errorbar(r_av,r_av**2.*twopcf_mean,yerr=r_av**2*twopcf_std)"
   ]
  },
  {
   "cell_type": "code",
   "execution_count": null,
   "metadata": {},
   "outputs": [],
   "source": []
  },
  {
   "cell_type": "code",
   "execution_count": null,
   "metadata": {},
   "outputs": [],
   "source": []
  },
  {
   "cell_type": "code",
   "execution_count": 461,
   "metadata": {},
   "outputs": [],
   "source": [
    "### Do the bin integrations\n",
    "k = np.logspace(-2,1,1000)\n",
    "Pk = pk_interp(k)\n",
    "R_max = 170.\n",
    "n_r = 10.\n",
    "\n",
    "def integ_bessel(ell,bin1):\n",
    "    r_min = bin1*R_max/n_r\n",
    "    r_max = (bin1+1.)*R_max/n_r\n",
    "    if ell==0:\n",
    "        tmp1 = (-k*r_max*np.cos(k*r_max)+np.sin(k*r_max))/k**3. \n",
    "        tmp2 = (-k*r_min*np.cos(k*r_min)+np.sin(k*r_min))/k**3.\n",
    "    elif ell==1:\n",
    "        tmp1 = -2.*np.cos(k*r_max)/k**3. - r_max*np.sin(k*r_max)/k**2.\n",
    "        tmp2 = -2.*np.cos(k*r_min)/k**3. - r_min*np.sin(k*r_min)/k**2.\n",
    "    elif ell==2:\n",
    "        tmp1 = (r_max*np.cos(k*r_max))/k**2 - (4*np.sin(k*r_max))/k**3 + (3*sici(k*r_max)[0])/k**3\n",
    "        tmp2 = (r_min*np.cos(k*r_min))/k**2 - (4*np.sin(k*r_min))/k**3 + (3*sici(k*r_min)[0])/k**3\n",
    "    elif ell==3:\n",
    "        tmp1 = (7.*np.cos(k*r_max))/k**3 - (15.*np.sin(k*r_max))/(k**4*r_max) + (r_max*np.sin(k*r_max))/k**2\n",
    "        # avoid zero errors!\n",
    "        if r_min==0:\n",
    "            tmp2 = -(8./k**3.)\n",
    "        else:\n",
    "            tmp2 = (7.*np.cos(k*r_min))/k**3 - (15.*np.sin(k*r_min))/(k**4*r_min) + (r_min*np.sin(k*r_min))/k**2\n",
    "    elif ell==4:\n",
    "        tmp1 = (105.*np.cos(k*r_max))/(2.*k**4*r_max) - (r_max*np.cos(k*r_max))/k**2 + (11*np.sin(k*r_max))/k**3 -(105*np.sin(k*r_max))/(2.*k**5*r_max**2) + (15*sici(k*r_max)[0])/(2.*k**3)\n",
    "        if r_min==0:\n",
    "            tmp2 = 0.\n",
    "        else:\n",
    "            tmp2 = (105.*np.cos(k*r_min))/(2.*k**4*r_min) - (r_min*np.cos(k*r_min))/k**2 + (11*np.sin(k*r_min))/k**3 -(105*np.sin(k*r_min))/(2.*k**5*r_min**2) + (15*sici(k*r_min)[0])/(2.*k**3)\n",
    "    elif ell==5:\n",
    "        tmp1 = ((315*k*r_max - 16*k**3*r_max**3)*np.cos(k*r_max) - (315 - 105*k**2*r_max**2 + k**4*r_max**4)*np.sin(k*r_max))/(k**6*r_max**3)\n",
    "        if r_min==0:\n",
    "            tmp2 = -16./k**3.\n",
    "        else:\n",
    "            tmp2 = ((315*k*r_min - 16*k**3*r_min**3)*np.cos(k*r_min) - (315 - 105*k**2*r_min**2 + k**4*r_min**4)*np.sin(k*r_min))/(k**6*r_min**3)\n",
    "    else:\n",
    "        raise Exception(\"not implemented yet!\")\n",
    "    return (tmp1-tmp2)/((r_max**3.-r_min**3.)/3.)\n",
    "\n",
    "\n",
    "direct_hankel = lambda ell,bin1: (-1.j)**ell*simps(k**2.*Pk*integ_bessel(ell,bin1),k)/(2.*np.pi**2.)\n",
    "binned_xi_direct = [direct_hankel(0,i) for i in range(10)]"
   ]
  },
  {
   "cell_type": "code",
   "execution_count": 462,
   "metadata": {},
   "outputs": [
    {
     "data": {
      "image/png": "[encoded data removed]",
      "text/plain": [
       "<Figure size 432x288 with 1 Axes>"
      ]
     },
     "metadata": {
      "needs_background": "light"
     },
     "output_type": "display_data"
    }
   ],
   "source": [
    "plt.plot(r_av,r_av**2*binned_xi_direct)\n",
    "plt.errorbar(r_av,r_av**2.*twopcf_mean,yerr=r_av**2.*twopcf_std);"
   ]
  },
  {
   "cell_type": "markdown",
   "metadata": {},
   "source": [
    "#### For theory model here, we take true 2PCF mean, and use P(k) model for $f$ integrals!\n",
    "# Inconsistent however, since this $P(k)$ doesn't give correct $\\xi(r)$!!"
   ]
  },
  {
   "cell_type": "code",
   "execution_count": 475,
   "metadata": {},
   "outputs": [],
   "source": [
    "## Define bin-integrated Bessel functions. These are Integral[r^2 j_ell(kr)]/Integral[r^2] which are analytic.\n",
    "## sici[0] is the Sine integral.\n",
    "## ell>5 can be easily implemented also if needed\n",
    "\n",
    "from scipy.special import sici\n",
    "d = np.load('/projects/QUIJOTE/Oliver/npcf/grf_4pcf_data.npz')\n",
    "ell1,ell2,ell3 = d['ells']\n",
    "grf_fourpcf_mean = d['mean']\n",
    "bins1,bins2,bins3 = d['bins']\n",
    "d.close()\n",
    "R_max = 170.\n",
    "n_r = 10\n",
    "n_radial = len(bins1)"
   ]
  },
  {
   "cell_type": "code",
   "execution_count": 476,
   "metadata": {},
   "outputs": [],
   "source": [
    "def integ_bessel(ell,bin1):\n",
    "    r_min = bin1*R_max/n_r\n",
    "    r_max = (bin1+1.)*R_max/n_r\n",
    "    if ell==0:\n",
    "        tmp1 = (-k*r_max*np.cos(k*r_max)+np.sin(k*r_max))/k**3. \n",
    "        tmp2 = (-k*r_min*np.cos(k*r_min)+np.sin(k*r_min))/k**3.\n",
    "    elif ell==1:\n",
    "        tmp1 = -2.*np.cos(k*r_max)/k**3. - r_max*np.sin(k*r_max)/k**2.\n",
    "        tmp2 = -2.*np.cos(k*r_min)/k**3. - r_min*np.sin(k*r_min)/k**2.\n",
    "    elif ell==2:\n",
    "        tmp1 = (r_max*np.cos(k*r_max))/k**2 - (4*np.sin(k*r_max))/k**3 + (3*sici(k*r_max)[0])/k**3\n",
    "        tmp2 = (r_min*np.cos(k*r_min))/k**2 - (4*np.sin(k*r_min))/k**3 + (3*sici(k*r_min)[0])/k**3\n",
    "    elif ell==3:\n",
    "        tmp1 = (7.*np.cos(k*r_max))/k**3 - (15.*np.sin(k*r_max))/(k**4*r_max) + (r_max*np.sin(k*r_max))/k**2\n",
    "        # avoid zero errors!\n",
    "        if r_min==0:\n",
    "            tmp2 = -(8./k**3.)\n",
    "        else:\n",
    "            tmp2 = (7.*np.cos(k*r_min))/k**3 - (15.*np.sin(k*r_min))/(k**4*r_min) + (r_min*np.sin(k*r_min))/k**2\n",
    "    elif ell==4:\n",
    "        tmp1 = (105.*np.cos(k*r_max))/(2.*k**4*r_max) - (r_max*np.cos(k*r_max))/k**2 + (11*np.sin(k*r_max))/k**3 -(105*np.sin(k*r_max))/(2.*k**5*r_max**2) + (15*sici(k*r_max)[0])/(2.*k**3)\n",
    "        if r_min==0:\n",
    "            tmp2 = 0.\n",
    "        else:\n",
    "            tmp2 = (105.*np.cos(k*r_min))/(2.*k**4*r_min) - (r_min*np.cos(k*r_min))/k**2 + (11*np.sin(k*r_min))/k**3 -(105*np.sin(k*r_min))/(2.*k**5*r_min**2) + (15*sici(k*r_min)[0])/(2.*k**3)\n",
    "    elif ell==5:\n",
    "        tmp1 = ((315*k*r_max - 16*k**3*r_max**3)*np.cos(k*r_max) - (315 - 105*k**2*r_max**2 + k**4*r_max**4)*np.sin(k*r_max))/(k**6*r_max**3)\n",
    "        if r_min==0:\n",
    "            tmp2 = -16./k**3.\n",
    "        else:\n",
    "            tmp2 = ((315*k*r_min - 16*k**3*r_min**3)*np.cos(k*r_min) - (315 - 105*k**2*r_min**2 + k**4*r_min**4)*np.sin(k*r_min))/(k**6*r_min**3)\n",
    "    else:\n",
    "        raise Exception(\"not implemented yet!\")\n",
    "    return (tmp1-tmp2)/((r_max**3.-r_min**3.)/3.)\n",
    "\n",
    "# Define f kernels as integral over P(k)\n",
    "simple_f = lambda ell,bin1,bin2: simps(k**2.*Pk*integ_bessel(ell,bin1)*integ_bessel(ell,bin2),k)/(2.*np.pi**2.)\n",
    "\n",
    "# Compute matrix of all necessary f_ll(a,b) = f_{0ll}(0,a,b) kernels\n",
    "all_f = np.zeros((max(ell1)+1,n_r,n_r))\n",
    "for ell in range(0,max(ell1)+1):\n",
    "    for a in range(n_r):\n",
    "        for b in range(n_r):\n",
    "            all_f[ell,a,b] = simple_f(ell,a,b)\n",
    "\n",
    "# Now compute full Gaussian integral\n",
    "# Note we use the measured mean 2PCF for the xi(r) piece.\n",
    "gaussian_model = np.zeros_like(grf_fourpcf_mean)\n",
    "for i in range(len(gaussian_model)):\n",
    "    l1,l2,l3 = ell1[i],ell2[i],ell3[i]\n",
    "    if l1==0 and l2==l3:\n",
    "        for j in range(n_radial):\n",
    "            gaussian_model[i,j] += (4.*np.pi)**1.5*(-1.)**l2*np.sqrt(2.*l2+1.)*twopcf_mean[bins1[j]]*all_f[l2,bins2[j],bins3[j]]\n",
    "    if l2==0 and l1==l3:\n",
    "        for j in range(n_radial):\n",
    "            gaussian_model[i,j] += (4.*np.pi)**1.5*(-1.)**l1*np.sqrt(2.*l1+1.)*twopcf_mean[bins2[j]]*all_f[l1,bins1[j],bins3[j]]\n",
    "    if l3==0 and l1==l2:\n",
    "        for j in range(n_radial):\n",
    "            gaussian_model[i,j] += (4.*np.pi)**1.5*(-1.)**l1*np.sqrt(2.*l1+1.)*twopcf_mean[bins3[j]]*all_f[l1,bins1[j],bins2[j]]"
   ]
  },
  {
   "cell_type": "code",
   "execution_count": 478,
   "metadata": {},
   "outputs": [],
   "source": [
    "np.save('/projects/QUIJOTE/Oliver/npcf/gaussian_4pcf_model_patchy.npy',gaussian_model)"
   ]
  },
  {
   "cell_type": "code",
   "execution_count": null,
   "metadata": {},
   "outputs": [],
   "source": []
  },
  {
   "cell_type": "code",
   "execution_count": null,
   "metadata": {},
   "outputs": [],
   "source": []
  },
  {
   "cell_type": "code",
   "execution_count": null,
   "metadata": {},
   "outputs": [],
   "source": []
  }
 ],
 "metadata": {
  "kernelspec": {
   "display_name": "Python 3",
   "language": "python",
   "name": "python3"
  },
  "language_info": {
   "codemirror_mode": {
    "name": "ipython",
    "version": 3
   },
   "file_extension": ".py",
   "mimetype": "text/x-python",
   "name": "python",
   "nbconvert_exporter": "python",
   "pygments_lexer": "ipython3",
   "version": "3.8.3"
  }
 },
 "nbformat": 4,
 "nbformat_minor": 2
}
