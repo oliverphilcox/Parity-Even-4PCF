{
 "cells": [
  {
   "cell_type": "code",
   "execution_count": 2,
   "metadata": {},
   "outputs": [
    {
     "name": "stdout",
     "output_type": "stream",
     "text": [
      "Populating the interactive namespace from numpy and matplotlib\n"
     ]
    }
   ],
   "source": [
    "%pylab inline"
   ]
  },
  {
   "cell_type": "code",
   "execution_count": 63,
   "metadata": {},
   "outputs": [
    {
     "name": "stdout",
     "output_type": "stream",
     "text": [
      "### PARAMETERS ###\n",
      "# BoxSize: 1574\n",
      "# N_grid: 128\n",
      "# Linear Bias: 1.9\n",
      "# Redshift: 2.00\n",
      "# n_bar: 1.51e-04\n",
      "##################\n"
     ]
    }
   ],
   "source": [
    "#### MODULES ####\n",
    "from nbodykit.lab import *\n",
    "import numpy as np\n",
    "import os,sys,time\n",
    "from mcfit import P2xi, xi2P\n",
    "\n",
    "#### INPUTS ####\n",
    "sim_min = 103\n",
    "sim_max = 104\n",
    "\n",
    "#### PARAMETERS ####\n",
    "# (vaguely matching CMASS-N)\n",
    "vol = 3.9e9\n",
    "Ngal = 587071\n",
    "nbar = Ngal*1./vol\n",
    "BoxSize = int(vol**(1./3.))\n",
    "Nmesh = 128\n",
    "b1 = 1.9\n",
    "LOS = [0,0,1] # line-of-sight\n",
    "z = 2. # redshift\n",
    "\n",
    "print(\"### PARAMETERS ###\")\n",
    "print(\"# BoxSize: %d\"%BoxSize)\n",
    "print(\"# N_grid: %d\"%Nmesh)\n",
    "print(\"# Linear Bias: %.1f\"%b1)\n",
    "print(\"# Redshift: %.2f\"%z)\n",
    "print(\"# n_bar: %.2e\"%nbar)\n",
    "print(\"##################\")\n",
    "\n",
    "outdir = '/projects/QUIJOTE/Oliver/npcf/rsd_lognormal/mocks/'\n",
    "if not os.path.exists(outdir):\n",
    "    os.makedirs(outdir)\n",
    "\n",
    "# Cosmology\n",
    "OmegaM = 0.307115\n",
    "OmegaL = 0.692885\n",
    "Omegab = 0.048206\n",
    "A_s = 2.1467e-9\n",
    "h = 0.6777\n",
    "n_s = 0.9611\n",
    "N_ncdm = 0\n",
    "N_ur = 3.046\n",
    "\n",
    "init = time.time()\n"
   ]
  },
  {
   "cell_type": "code",
   "execution_count": 64,
   "metadata": {},
   "outputs": [
    {
     "name": "stdout",
     "output_type": "stream",
     "text": [
      "Saved model P_ell(k) and xi_ell(r) to /projects/QUIJOTE/Oliver/npcf/rsd_lognormal/mocks/\n"
     ]
    }
   ],
   "source": [
    "# Define cosmology\n",
    "cosmo = cosmology.Cosmology(h=h,A_s=A_s,n_s=n_s,N_ncdm=N_ncdm,N_ur=N_ur,Omega_b=Omegab,Omega_cdm=OmegaM-Omegab)\n",
    "Plin = cosmology.LinearPower(cosmo, z, transfer='CLASS')\n",
    "pk_interp = lambda k: Plin(k)\n",
    "\n",
    "# Compute and save Pk and xi multipoles\n",
    "k_arr = np.logspace(-5,3,10000)\n",
    "fz = cosmo.scale_independent_growth_rate(z)\n",
    "\n",
    "pk_m = Plin(k_arr)\n",
    "pk0 = pk_m*(b1**2.+2./3.*b1*fz+1./5.*fz**2.)\n",
    "pk2 = pk_m*(4.*b1*fz/3.+4.*fz**2/7.)\n",
    "pk4 = pk_m*8./35.*fz**2.\n",
    "r_arr,xi0 = P2xi(k_arr,l=0)(pk0)\n",
    "xi2 = P2xi(k_arr,l=2)(pk2)[1]\n",
    "xi4 = P2xi(k_arr,l=4)(pk4)[1]\n",
    "\n",
    "np.savetxt(outdir+'input_pk_lognormal.txt',np.vstack([k_arr,pk0,pk2,pk4]).T)\n",
    "np.savetxt(outdir+'input_xi_lognormal.txt',np.vstack([r_arr,xi0,xi2,xi4]).T)\n",
    "print(\"Saved model P_ell(k) and xi_ell(r) to %s\"%outdir)"
   ]
  },
  {
   "cell_type": "code",
   "execution_count": 70,
   "metadata": {},
   "outputs": [
    {
     "name": "stdout",
     "output_type": "stream",
     "text": [
      "Creating catalog 104\n",
      "Creating catalog 105\n",
      "Created 2 catalogs with N_grid = 128 after 385.35 seconds\n"
     ]
    }
   ],
   "source": [
    "N_cat = 0\n",
    "for i in range(sim_min,sim_max+1):\n",
    "    print(\"Creating catalog %d\"%(i+1))\n",
    "    \n",
    "    # Create log-normal catalog\n",
    "    cat = LogNormalCatalog(Plin=pk_interp,cosmo=cosmo,redshift=z,nbar=nbar, BoxSize=BoxSize, Nmesh=Nmesh, bias=b1, seed=i)\n",
    "    cat['RSDPosition'] = (cat['Position']+cat['VelocityOffset']*LOS)%BoxSize\n",
    "    cat['Weight'] = np.ones(len(cat))*1.\n",
    "    \n",
    "    # Save to file\n",
    "    output = np.vstack([cat['RSDPosition'].compute().T,cat['Weight']]).T\n",
    "    np.savetxt(outdir+'lognormal%d.data'%i,output)\n",
    "    \n",
    "    # Also convert to .gz file\n",
    "    os.system('gzip %s'%(outdir+'lognormal%d.data'%i))\n",
    "    \n",
    "    N_cat += 1\n",
    "\n",
    "print(\"Created %d catalogs with N_grid = %d after %.2f seconds\"%(N_cat,Nmesh,time.time()-init))"
   ]
  },
  {
   "cell_type": "markdown",
   "metadata": {},
   "source": [
    "### Create random catalogs"
   ]
  },
  {
   "cell_type": "code",
   "execution_count": 109,
   "metadata": {},
   "outputs": [],
   "source": [
    "N_rand = int(nbar*BoxSize**3.*1.5)"
   ]
  },
  {
   "cell_type": "code",
   "execution_count": 114,
   "metadata": {},
   "outputs": [
    {
     "name": "stdout",
     "output_type": "stream",
     "text": [
      "Creating random catalog 1 of 32\n",
      "Creating random catalog 2 of 32\n",
      "Creating random catalog 3 of 32\n",
      "Creating random catalog 4 of 32\n",
      "Creating random catalog 5 of 32\n",
      "Creating random catalog 6 of 32\n",
      "Creating random catalog 7 of 32\n",
      "Creating random catalog 8 of 32\n",
      "Creating random catalog 9 of 32\n",
      "Creating random catalog 10 of 32\n",
      "Creating random catalog 11 of 32\n",
      "Creating random catalog 12 of 32\n",
      "Creating random catalog 13 of 32\n",
      "Creating random catalog 14 of 32\n",
      "Creating random catalog 15 of 32\n",
      "Creating random catalog 16 of 32\n",
      "Creating random catalog 17 of 32\n",
      "Creating random catalog 18 of 32\n",
      "Creating random catalog 19 of 32\n",
      "Creating random catalog 20 of 32\n",
      "Creating random catalog 21 of 32\n",
      "Creating random catalog 22 of 32\n",
      "Creating random catalog 23 of 32\n",
      "Creating random catalog 24 of 32\n",
      "Creating random catalog 25 of 32\n",
      "Creating random catalog 26 of 32\n",
      "Creating random catalog 27 of 32\n",
      "Creating random catalog 28 of 32\n",
      "Creating random catalog 29 of 32\n",
      "Creating random catalog 30 of 32\n",
      "Creating random catalog 31 of 32\n",
      "Creating random catalog 32 of 32\n"
     ]
    }
   ],
   "source": [
    "for i in range(32):\n",
    "    print(\"Creating random catalog %d of %d\"%(i+1,32))\n",
    "    rand_pos = np.random.uniform(high=BoxSize,size=(N_rand,3))\n",
    "    rand_w = np.ones(N_rand)*1.\n",
    "    rand_w *= -1./1.5 # balance weights!\n",
    "    output_rand = np.vstack([rand_pos.T,rand_w]).T\n",
    "    ran_name = outdir+'lognormal.ran.%s'%str(i).zfill(2)\n",
    "    np.savetxt(ran_name,output_rand)\n",
    "    \n",
    "    # Convert to .gz file\n",
    "    os.system('gzip -f %s'%ran_name)"
   ]
  },
  {
   "cell_type": "code",
   "execution_count": null,
   "metadata": {},
   "outputs": [],
   "source": []
  },
  {
   "cell_type": "code",
   "execution_count": null,
   "metadata": {},
   "outputs": [],
   "source": []
  },
  {
   "cell_type": "code",
   "execution_count": null,
   "metadata": {},
   "outputs": [],
   "source": []
  }
 ],
 "metadata": {
  "kernelspec": {
   "display_name": "Python 3",
   "language": "python",
   "name": "python3"
  },
  "language_info": {
   "codemirror_mode": {
    "name": "ipython",
    "version": 3
   },
   "file_extension": ".py",
   "mimetype": "text/x-python",
   "name": "python",
   "nbconvert_exporter": "python",
   "pygments_lexer": "ipython3",
   "version": "3.8.3"
  }
 },
 "nbformat": 4,
 "nbformat_minor": 2
}
